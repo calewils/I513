{
 "cells": [
  {
   "cell_type": "markdown",
   "id": "broke-watts",
   "metadata": {},
   "source": [
    "# Caleb Wilson I513 Homework 5"
   ]
  },
  {
   "cell_type": "code",
   "execution_count": 1,
   "id": "perceived-diploma",
   "metadata": {},
   "outputs": [],
   "source": [
    "#import necessary modules\n",
    "import pandas as pd\n",
    "import numpy as np\n",
    "import sqlite3\n",
    "from sklearn.linear_model import LinearRegression\n",
    "from sklearn.preprocessing import normalize\n",
    "from sklearn.model_selection import train_test_split\n",
    "from sklearn.preprocessing import StandardScaler\n",
    "from sklearn.metrics import r2_score\n",
    "from sklearn.model_selection import cross_val_score\n",
    "from sklearn.linear_model import Ridge\n",
    "from sklearn.linear_model import Lasso\n",
    "from sklearn.model_selection import cross_validate"
   ]
  },
  {
   "cell_type": "markdown",
   "id": "apart-copying",
   "metadata": {},
   "source": [
    "## Connecting to SQL Database and Building Pandas Dataframe"
   ]
  },
  {
   "cell_type": "code",
   "execution_count": 2,
   "id": "major-geometry",
   "metadata": {},
   "outputs": [],
   "source": [
    "#connect python to the sqlite database\n",
    "dbPath = \"database.sqlite\"\n",
    "connection = sqlite3.connect(dbPath)\n",
    "cursor = connection.cursor()"
   ]
  },
  {
   "cell_type": "code",
   "execution_count": 3,
   "id": "retained-brush",
   "metadata": {},
   "outputs": [],
   "source": [
    "#read the sql data base into a pandas data frame\n",
    "player_attri_df = pd.read_sql(\"SELECT * FROM Player_Attributes\", connection)\n",
    "\n",
    "#fill in nan and null variables\n",
    "player_attri_df[\"gk_reflexes\"].fillna(player_attri_df[\"gk_reflexes\"].mean(), inplace=True)\n",
    "player_attri_df[\"gk_handling\"].fillna(player_attri_df[\"gk_handling\"].mean(), inplace=True)\n"
   ]
  },
  {
   "cell_type": "code",
   "execution_count": 4,
   "id": "exterior-establishment",
   "metadata": {},
   "outputs": [
    {
     "data": {
      "text/plain": [
       "False"
      ]
     },
     "execution_count": 4,
     "metadata": {},
     "output_type": "execute_result"
    }
   ],
   "source": [
    "#validate that there are no null values\n",
    "player_attri_df[\"gk_reflexes\"].isnull().any()"
   ]
  },
  {
   "cell_type": "code",
   "execution_count": 5,
   "id": "cultural-norwegian",
   "metadata": {},
   "outputs": [
    {
     "data": {
      "text/plain": [
       "False"
      ]
     },
     "execution_count": 5,
     "metadata": {},
     "output_type": "execute_result"
    }
   ],
   "source": [
    "#validate that there are no nan values\n",
    "player_attri_df[\"gk_reflexes\"].isna().any()"
   ]
  },
  {
   "cell_type": "code",
   "execution_count": 6,
   "id": "biological-glory",
   "metadata": {},
   "outputs": [
    {
     "data": {
      "text/plain": [
       "False"
      ]
     },
     "execution_count": 6,
     "metadata": {},
     "output_type": "execute_result"
    }
   ],
   "source": [
    "#validate that there are no null values\n",
    "player_attri_df[\"gk_handling\"].isnull().all()"
   ]
  },
  {
   "cell_type": "code",
   "execution_count": 7,
   "id": "accomplished-madness",
   "metadata": {},
   "outputs": [
    {
     "data": {
      "text/plain": [
       "False"
      ]
     },
     "execution_count": 7,
     "metadata": {},
     "output_type": "execute_result"
    }
   ],
   "source": [
    "#validate that there are no nan values\n",
    "player_attri_df[\"gk_handling\"].isna().all()"
   ]
  },
  {
   "cell_type": "code",
   "execution_count": 8,
   "id": "complimentary-permit",
   "metadata": {
    "scrolled": true
   },
   "outputs": [
    {
     "data": {
      "text/html": [
       "<div>\n",
       "<style scoped>\n",
       "    .dataframe tbody tr th:only-of-type {\n",
       "        vertical-align: middle;\n",
       "    }\n",
       "\n",
       "    .dataframe tbody tr th {\n",
       "        vertical-align: top;\n",
       "    }\n",
       "\n",
       "    .dataframe thead th {\n",
       "        text-align: right;\n",
       "    }\n",
       "</style>\n",
       "<table border=\"1\" class=\"dataframe\">\n",
       "  <thead>\n",
       "    <tr style=\"text-align: right;\">\n",
       "      <th></th>\n",
       "      <th>id</th>\n",
       "      <th>player_fifa_api_id</th>\n",
       "      <th>player_api_id</th>\n",
       "      <th>date</th>\n",
       "      <th>overall_rating</th>\n",
       "      <th>potential</th>\n",
       "      <th>preferred_foot</th>\n",
       "      <th>attacking_work_rate</th>\n",
       "      <th>defensive_work_rate</th>\n",
       "      <th>crossing</th>\n",
       "      <th>...</th>\n",
       "      <th>vision</th>\n",
       "      <th>penalties</th>\n",
       "      <th>marking</th>\n",
       "      <th>standing_tackle</th>\n",
       "      <th>sliding_tackle</th>\n",
       "      <th>gk_diving</th>\n",
       "      <th>gk_handling</th>\n",
       "      <th>gk_kicking</th>\n",
       "      <th>gk_positioning</th>\n",
       "      <th>gk_reflexes</th>\n",
       "    </tr>\n",
       "  </thead>\n",
       "  <tbody>\n",
       "    <tr>\n",
       "      <th>0</th>\n",
       "      <td>1</td>\n",
       "      <td>218353</td>\n",
       "      <td>505942</td>\n",
       "      <td>2016-02-18 00:00:00</td>\n",
       "      <td>67.0</td>\n",
       "      <td>71.0</td>\n",
       "      <td>right</td>\n",
       "      <td>medium</td>\n",
       "      <td>medium</td>\n",
       "      <td>49.0</td>\n",
       "      <td>...</td>\n",
       "      <td>54.0</td>\n",
       "      <td>48.0</td>\n",
       "      <td>65.0</td>\n",
       "      <td>69.0</td>\n",
       "      <td>69.0</td>\n",
       "      <td>6.0</td>\n",
       "      <td>11.0</td>\n",
       "      <td>10.0</td>\n",
       "      <td>8.0</td>\n",
       "      <td>8.0</td>\n",
       "    </tr>\n",
       "    <tr>\n",
       "      <th>1</th>\n",
       "      <td>2</td>\n",
       "      <td>218353</td>\n",
       "      <td>505942</td>\n",
       "      <td>2015-11-19 00:00:00</td>\n",
       "      <td>67.0</td>\n",
       "      <td>71.0</td>\n",
       "      <td>right</td>\n",
       "      <td>medium</td>\n",
       "      <td>medium</td>\n",
       "      <td>49.0</td>\n",
       "      <td>...</td>\n",
       "      <td>54.0</td>\n",
       "      <td>48.0</td>\n",
       "      <td>65.0</td>\n",
       "      <td>69.0</td>\n",
       "      <td>69.0</td>\n",
       "      <td>6.0</td>\n",
       "      <td>11.0</td>\n",
       "      <td>10.0</td>\n",
       "      <td>8.0</td>\n",
       "      <td>8.0</td>\n",
       "    </tr>\n",
       "    <tr>\n",
       "      <th>2</th>\n",
       "      <td>3</td>\n",
       "      <td>218353</td>\n",
       "      <td>505942</td>\n",
       "      <td>2015-09-21 00:00:00</td>\n",
       "      <td>62.0</td>\n",
       "      <td>66.0</td>\n",
       "      <td>right</td>\n",
       "      <td>medium</td>\n",
       "      <td>medium</td>\n",
       "      <td>49.0</td>\n",
       "      <td>...</td>\n",
       "      <td>54.0</td>\n",
       "      <td>48.0</td>\n",
       "      <td>65.0</td>\n",
       "      <td>66.0</td>\n",
       "      <td>69.0</td>\n",
       "      <td>6.0</td>\n",
       "      <td>11.0</td>\n",
       "      <td>10.0</td>\n",
       "      <td>8.0</td>\n",
       "      <td>8.0</td>\n",
       "    </tr>\n",
       "    <tr>\n",
       "      <th>3</th>\n",
       "      <td>4</td>\n",
       "      <td>218353</td>\n",
       "      <td>505942</td>\n",
       "      <td>2015-03-20 00:00:00</td>\n",
       "      <td>61.0</td>\n",
       "      <td>65.0</td>\n",
       "      <td>right</td>\n",
       "      <td>medium</td>\n",
       "      <td>medium</td>\n",
       "      <td>48.0</td>\n",
       "      <td>...</td>\n",
       "      <td>53.0</td>\n",
       "      <td>47.0</td>\n",
       "      <td>62.0</td>\n",
       "      <td>63.0</td>\n",
       "      <td>66.0</td>\n",
       "      <td>5.0</td>\n",
       "      <td>10.0</td>\n",
       "      <td>9.0</td>\n",
       "      <td>7.0</td>\n",
       "      <td>7.0</td>\n",
       "    </tr>\n",
       "    <tr>\n",
       "      <th>4</th>\n",
       "      <td>5</td>\n",
       "      <td>218353</td>\n",
       "      <td>505942</td>\n",
       "      <td>2007-02-22 00:00:00</td>\n",
       "      <td>61.0</td>\n",
       "      <td>65.0</td>\n",
       "      <td>right</td>\n",
       "      <td>medium</td>\n",
       "      <td>medium</td>\n",
       "      <td>48.0</td>\n",
       "      <td>...</td>\n",
       "      <td>53.0</td>\n",
       "      <td>47.0</td>\n",
       "      <td>62.0</td>\n",
       "      <td>63.0</td>\n",
       "      <td>66.0</td>\n",
       "      <td>5.0</td>\n",
       "      <td>10.0</td>\n",
       "      <td>9.0</td>\n",
       "      <td>7.0</td>\n",
       "      <td>7.0</td>\n",
       "    </tr>\n",
       "    <tr>\n",
       "      <th>5</th>\n",
       "      <td>6</td>\n",
       "      <td>189615</td>\n",
       "      <td>155782</td>\n",
       "      <td>2016-04-21 00:00:00</td>\n",
       "      <td>74.0</td>\n",
       "      <td>76.0</td>\n",
       "      <td>left</td>\n",
       "      <td>high</td>\n",
       "      <td>medium</td>\n",
       "      <td>80.0</td>\n",
       "      <td>...</td>\n",
       "      <td>66.0</td>\n",
       "      <td>59.0</td>\n",
       "      <td>76.0</td>\n",
       "      <td>75.0</td>\n",
       "      <td>78.0</td>\n",
       "      <td>14.0</td>\n",
       "      <td>7.0</td>\n",
       "      <td>9.0</td>\n",
       "      <td>9.0</td>\n",
       "      <td>12.0</td>\n",
       "    </tr>\n",
       "    <tr>\n",
       "      <th>6</th>\n",
       "      <td>7</td>\n",
       "      <td>189615</td>\n",
       "      <td>155782</td>\n",
       "      <td>2016-04-07 00:00:00</td>\n",
       "      <td>74.0</td>\n",
       "      <td>76.0</td>\n",
       "      <td>left</td>\n",
       "      <td>high</td>\n",
       "      <td>medium</td>\n",
       "      <td>80.0</td>\n",
       "      <td>...</td>\n",
       "      <td>66.0</td>\n",
       "      <td>59.0</td>\n",
       "      <td>76.0</td>\n",
       "      <td>75.0</td>\n",
       "      <td>78.0</td>\n",
       "      <td>14.0</td>\n",
       "      <td>7.0</td>\n",
       "      <td>9.0</td>\n",
       "      <td>9.0</td>\n",
       "      <td>12.0</td>\n",
       "    </tr>\n",
       "    <tr>\n",
       "      <th>7</th>\n",
       "      <td>8</td>\n",
       "      <td>189615</td>\n",
       "      <td>155782</td>\n",
       "      <td>2016-01-07 00:00:00</td>\n",
       "      <td>73.0</td>\n",
       "      <td>75.0</td>\n",
       "      <td>left</td>\n",
       "      <td>high</td>\n",
       "      <td>medium</td>\n",
       "      <td>79.0</td>\n",
       "      <td>...</td>\n",
       "      <td>65.0</td>\n",
       "      <td>59.0</td>\n",
       "      <td>76.0</td>\n",
       "      <td>75.0</td>\n",
       "      <td>78.0</td>\n",
       "      <td>14.0</td>\n",
       "      <td>7.0</td>\n",
       "      <td>9.0</td>\n",
       "      <td>9.0</td>\n",
       "      <td>12.0</td>\n",
       "    </tr>\n",
       "    <tr>\n",
       "      <th>8</th>\n",
       "      <td>9</td>\n",
       "      <td>189615</td>\n",
       "      <td>155782</td>\n",
       "      <td>2015-12-24 00:00:00</td>\n",
       "      <td>73.0</td>\n",
       "      <td>75.0</td>\n",
       "      <td>left</td>\n",
       "      <td>high</td>\n",
       "      <td>medium</td>\n",
       "      <td>79.0</td>\n",
       "      <td>...</td>\n",
       "      <td>65.0</td>\n",
       "      <td>59.0</td>\n",
       "      <td>76.0</td>\n",
       "      <td>75.0</td>\n",
       "      <td>78.0</td>\n",
       "      <td>14.0</td>\n",
       "      <td>7.0</td>\n",
       "      <td>9.0</td>\n",
       "      <td>9.0</td>\n",
       "      <td>12.0</td>\n",
       "    </tr>\n",
       "    <tr>\n",
       "      <th>9</th>\n",
       "      <td>10</td>\n",
       "      <td>189615</td>\n",
       "      <td>155782</td>\n",
       "      <td>2015-12-17 00:00:00</td>\n",
       "      <td>73.0</td>\n",
       "      <td>75.0</td>\n",
       "      <td>left</td>\n",
       "      <td>high</td>\n",
       "      <td>medium</td>\n",
       "      <td>79.0</td>\n",
       "      <td>...</td>\n",
       "      <td>65.0</td>\n",
       "      <td>59.0</td>\n",
       "      <td>76.0</td>\n",
       "      <td>75.0</td>\n",
       "      <td>78.0</td>\n",
       "      <td>14.0</td>\n",
       "      <td>7.0</td>\n",
       "      <td>9.0</td>\n",
       "      <td>9.0</td>\n",
       "      <td>12.0</td>\n",
       "    </tr>\n",
       "  </tbody>\n",
       "</table>\n",
       "<p>10 rows × 42 columns</p>\n",
       "</div>"
      ],
      "text/plain": [
       "   id  player_fifa_api_id  player_api_id                 date  overall_rating  \\\n",
       "0   1              218353         505942  2016-02-18 00:00:00            67.0   \n",
       "1   2              218353         505942  2015-11-19 00:00:00            67.0   \n",
       "2   3              218353         505942  2015-09-21 00:00:00            62.0   \n",
       "3   4              218353         505942  2015-03-20 00:00:00            61.0   \n",
       "4   5              218353         505942  2007-02-22 00:00:00            61.0   \n",
       "5   6              189615         155782  2016-04-21 00:00:00            74.0   \n",
       "6   7              189615         155782  2016-04-07 00:00:00            74.0   \n",
       "7   8              189615         155782  2016-01-07 00:00:00            73.0   \n",
       "8   9              189615         155782  2015-12-24 00:00:00            73.0   \n",
       "9  10              189615         155782  2015-12-17 00:00:00            73.0   \n",
       "\n",
       "   potential preferred_foot attacking_work_rate defensive_work_rate  crossing  \\\n",
       "0       71.0          right              medium              medium      49.0   \n",
       "1       71.0          right              medium              medium      49.0   \n",
       "2       66.0          right              medium              medium      49.0   \n",
       "3       65.0          right              medium              medium      48.0   \n",
       "4       65.0          right              medium              medium      48.0   \n",
       "5       76.0           left                high              medium      80.0   \n",
       "6       76.0           left                high              medium      80.0   \n",
       "7       75.0           left                high              medium      79.0   \n",
       "8       75.0           left                high              medium      79.0   \n",
       "9       75.0           left                high              medium      79.0   \n",
       "\n",
       "   ...  vision  penalties  marking  standing_tackle  sliding_tackle  \\\n",
       "0  ...    54.0       48.0     65.0             69.0            69.0   \n",
       "1  ...    54.0       48.0     65.0             69.0            69.0   \n",
       "2  ...    54.0       48.0     65.0             66.0            69.0   \n",
       "3  ...    53.0       47.0     62.0             63.0            66.0   \n",
       "4  ...    53.0       47.0     62.0             63.0            66.0   \n",
       "5  ...    66.0       59.0     76.0             75.0            78.0   \n",
       "6  ...    66.0       59.0     76.0             75.0            78.0   \n",
       "7  ...    65.0       59.0     76.0             75.0            78.0   \n",
       "8  ...    65.0       59.0     76.0             75.0            78.0   \n",
       "9  ...    65.0       59.0     76.0             75.0            78.0   \n",
       "\n",
       "   gk_diving  gk_handling  gk_kicking  gk_positioning  gk_reflexes  \n",
       "0        6.0         11.0        10.0             8.0          8.0  \n",
       "1        6.0         11.0        10.0             8.0          8.0  \n",
       "2        6.0         11.0        10.0             8.0          8.0  \n",
       "3        5.0         10.0         9.0             7.0          7.0  \n",
       "4        5.0         10.0         9.0             7.0          7.0  \n",
       "5       14.0          7.0         9.0             9.0         12.0  \n",
       "6       14.0          7.0         9.0             9.0         12.0  \n",
       "7       14.0          7.0         9.0             9.0         12.0  \n",
       "8       14.0          7.0         9.0             9.0         12.0  \n",
       "9       14.0          7.0         9.0             9.0         12.0  \n",
       "\n",
       "[10 rows x 42 columns]"
      ]
     },
     "execution_count": 8,
     "metadata": {},
     "output_type": "execute_result"
    }
   ],
   "source": [
    "#check out what the dataframe looks like\n",
    "player_attri_df.head(10)"
   ]
  },
  {
   "cell_type": "code",
   "execution_count": 9,
   "id": "lyric-peeing",
   "metadata": {},
   "outputs": [
    {
     "data": {
      "text/plain": [
       "38"
      ]
     },
     "execution_count": 9,
     "metadata": {},
     "output_type": "execute_result"
    }
   ],
   "source": [
    "player_attri_df.columns.get_loc('gk_handling')"
   ]
  },
  {
   "cell_type": "code",
   "execution_count": 10,
   "id": "chubby-voice",
   "metadata": {},
   "outputs": [
    {
     "data": {
      "text/plain": [
       "41"
      ]
     },
     "execution_count": 10,
     "metadata": {},
     "output_type": "execute_result"
    }
   ],
   "source": [
    "player_attri_df.columns.get_loc('gk_reflexes')"
   ]
  },
  {
   "cell_type": "markdown",
   "id": "outside-sense",
   "metadata": {},
   "source": [
    "## Setting up Variables and Datasets"
   ]
  },
  {
   "cell_type": "code",
   "execution_count": 11,
   "id": "advisory-duration",
   "metadata": {},
   "outputs": [
    {
     "name": "stdout",
     "output_type": "stream",
     "text": [
      "(183978,) (183978,)\n"
     ]
    }
   ],
   "source": [
    "# create x and y variables from the data frame read from sql for machine learning analysis\n",
    "x = player_attri_df[\"gk_reflexes\"].values\n",
    "y = player_attri_df[\"gk_handling\"].values\n",
    "\n",
    "#check out what the data looks like\n",
    "print(x.shape, y.shape)\n",
    "\n",
    "###x, y = normalize(player_attri_df[\"gk_reflexes\"]), player_attri_df[\"gk_handling\"]"
   ]
  },
  {
   "cell_type": "code",
   "execution_count": 12,
   "id": "offensive-monday",
   "metadata": {},
   "outputs": [],
   "source": [
    "#data segmentation with training and test datasets\n",
    "X_train, X_test, Y_train, Y_test = train_test_split(x, y, test_size = 0.3)\n",
    "\n",
    "#reshape the array\n",
    "X_train = np.array(X_train).reshape(-1,1)\n",
    "X_test = np.array(X_test).reshape(-1,1)\n",
    "\n",
    "###Y_train = np.array(Y_train).reshape(-1,1)\n",
    "###Y_test = np.array(Y_test).reshape(-1,1)\n"
   ]
  },
  {
   "cell_type": "markdown",
   "id": "awful-display",
   "metadata": {},
   "source": [
    "## Linear Regression"
   ]
  },
  {
   "cell_type": "code",
   "execution_count": 13,
   "id": "satellite-stamp",
   "metadata": {},
   "outputs": [
    {
     "name": "stdout",
     "output_type": "stream",
     "text": [
      "Slope: 0.891\n",
      "Intercept: 1.434\n"
     ]
    }
   ],
   "source": [
    "#linear regression, fits model based on X_train and Y_train values\n",
    "linear = LinearRegression()\n",
    "\n",
    "#train the linear regression data\n",
    "linear.fit(X_train, Y_train)\n",
    "\n",
    "#print out linear regressions statistics\n",
    "print('Slope: %.3f'%linear.coef_[0])\n",
    "print('Intercept: %.3f'%linear.intercept_)"
   ]
  },
  {
   "cell_type": "code",
   "execution_count": 14,
   "id": "biblical-impossible",
   "metadata": {},
   "outputs": [],
   "source": [
    "#test data\n",
    "#Get the predicted Y result (pred_linear) through the model based on the X_test value\n",
    "Y_test_predicted = linear.predict(X_test)\n",
    "\n",
    "###Y_train_predicted = linear.predict(X_train)"
   ]
  },
  {
   "cell_type": "code",
   "execution_count": 15,
   "id": "generous-assembly",
   "metadata": {},
   "outputs": [
    {
     "name": "stdout",
     "output_type": "stream",
     "text": [
      "R2 Score: 0.9301614547443459\n"
     ]
    }
   ],
   "source": [
    "#use R2 score to find the correlation of the linear regression technique\n",
    "rsquared = r2_score(Y_test_predicted, Y_test)\n",
    "print(\"R2 Score: \" + str(rsquared))"
   ]
  },
  {
   "cell_type": "markdown",
   "id": "continued-shooting",
   "metadata": {},
   "source": [
    "## Cross Validation"
   ]
  },
  {
   "cell_type": "code",
   "execution_count": 16,
   "id": "emotional-monitor",
   "metadata": {},
   "outputs": [],
   "source": [
    "# set up scaler\n",
    "scalar = StandardScaler()\n",
    "# reshape data\n",
    "x = np.array(x).reshape(-1,1)\n",
    "x = np.array(x).reshape(-1,1)\n",
    "y = np.array(y).reshape(-1,1)\n",
    "y = np.array(y).reshape(-1,1)\n",
    "# transform data\n",
    "x = scalar.fit_transform(x)\n",
    "y = scalar.fit_transform(y)"
   ]
  },
  {
   "cell_type": "code",
   "execution_count": 17,
   "id": "distinct-furniture",
   "metadata": {},
   "outputs": [],
   "source": [
    "#data segmentation with training and test datasets\n",
    "X_train, X_test, Y_train, Y_test = train_test_split(x, y, test_size = 0.3)\n",
    "\n",
    "#linear regression, fits model based on X_train and Y_train values\n",
    "linear = LinearRegression()\n",
    "\n",
    "#train the linear regression data\n",
    "###linear.fit(X_train, Y_train)\n",
    "\n",
    "#reshape the array\n",
    "###X_train = np.array(X_train).reshape(-1,1)\n",
    "###X_test = np.array(X_test).reshape(-1,1)\n",
    "\n",
    "###Y_train = np.array(Y_train).reshape(-1,1)\n",
    "###Y_test = np.array(Y_test).reshape(-1,1)\n"
   ]
  },
  {
   "cell_type": "code",
   "execution_count": 18,
   "id": "disabled-formula",
   "metadata": {},
   "outputs": [],
   "source": [
    "#cross validation \n",
    "\n",
    "# using linear to fit x_train, y_trainwith 10-fold cross-validation\n",
    "cross_scores = cross_val_score(linear, X_train,Y_train,cv = 10)"
   ]
  },
  {
   "cell_type": "code",
   "execution_count": 19,
   "id": "historical-windows",
   "metadata": {},
   "outputs": [
    {
     "name": "stdout",
     "output_type": "stream",
     "text": [
      "0.9340603518303083\n"
     ]
    }
   ],
   "source": [
    "# average R^2 scores\n",
    "print(cross_scores.mean())"
   ]
  },
  {
   "cell_type": "code",
   "execution_count": 20,
   "id": "prospective-division",
   "metadata": {},
   "outputs": [
    {
     "name": "stdout",
     "output_type": "stream",
     "text": [
      "R2 Score: 0.9340603518303083\n"
     ]
    }
   ],
   "source": [
    "#use R2 score to find the correlation of the cross validation technique\n",
    "###rsquared = r2_score(Y_test_predicted, Y_test)\n",
    "print(\"R2 Score: \" + str(cross_scores.mean()))"
   ]
  },
  {
   "cell_type": "markdown",
   "id": "compressed-hearts",
   "metadata": {},
   "source": [
    "## Ridge Regularization"
   ]
  },
  {
   "cell_type": "code",
   "execution_count": 21,
   "id": "deluxe-aruba",
   "metadata": {},
   "outputs": [],
   "source": [
    "# set up scaler\n",
    "scalar = StandardScaler()\n",
    "# reshape data\n",
    "x = np.array(x).reshape(-1,1)\n",
    "x = np.array(x).reshape(-1,1)\n",
    "y = np.array(y).reshape(-1,1)\n",
    "y = np.array(y).reshape(-1,1)\n",
    "# transform data\n",
    "x = scalar.fit_transform(x)\n",
    "y = scalar.fit_transform(y)"
   ]
  },
  {
   "cell_type": "code",
   "execution_count": 22,
   "id": "certified-console",
   "metadata": {},
   "outputs": [],
   "source": [
    "#data segmentation with training and test datasets\n",
    "X_train, X_test, Y_train, Y_test = train_test_split(x, y, test_size = 0.3)\n",
    "\n",
    "#linear regression, fits model based on X_train and Y_train values\n",
    "#linear = LinearRegression()\n",
    "\n",
    "#train the linear regression data\n",
    "###linear.fit(X_train, Y_train)\n",
    "\n",
    "#reshape the array\n",
    "###X_train = np.array(X_train).reshape(-1,1)\n",
    "###X_test = np.array(X_test).reshape(-1,1)\n",
    "\n",
    "###Y_train = np.array(Y_train).reshape(-1,1)\n",
    "###Y_test = np.array(Y_test).reshape(-1,1)\n"
   ]
  },
  {
   "cell_type": "code",
   "execution_count": 23,
   "id": "prompt-brooks",
   "metadata": {},
   "outputs": [
    {
     "name": "stdout",
     "output_type": "stream",
     "text": [
      "0.01 :  0.93339888301785\n",
      "0.02 :  0.9333988830426172\n",
      "0.03 :  0.9333988830659795\n",
      "0.04 :  0.9333988830879367\n",
      "0.05 :  0.933398883108489\n",
      "0.06 :  0.933398883127636\n",
      "0.07 :  0.933398883145378\n",
      "0.08 :  0.9333988831617152\n",
      "0.09 :  0.9333988831766471\n"
     ]
    }
   ],
   "source": [
    "#ridge regularization\n",
    "\n",
    "# using ridge to fit X_train, Y_train with 10-fold cross-validation over alpha values from 0.1 to 0.9\n",
    "for i in range (1,10):\n",
    "    ridge = Ridge(alpha=i/10)\n",
    "    ridge_scores = cross_val_score(ridge, X_train, Y_train, cv=10)\n",
    "    print(i/100, \": \", ridge_scores.mean())"
   ]
  },
  {
   "cell_type": "code",
   "execution_count": 24,
   "id": "regular-religious",
   "metadata": {},
   "outputs": [
    {
     "name": "stdout",
     "output_type": "stream",
     "text": [
      "R2 Score: 0.9333988831766471\n"
     ]
    }
   ],
   "source": [
    "#use R2 score to find the correlation of the ridge regularization technique\n",
    "###rsquared = r2_score(Y_test_predicted, Y_test)\n",
    "\n",
    "print(\"R2 Score: \" + str(ridge_scores.mean()))"
   ]
  },
  {
   "cell_type": "markdown",
   "id": "brief-adrian",
   "metadata": {},
   "source": [
    "## Lasso Regularization"
   ]
  },
  {
   "cell_type": "code",
   "execution_count": 25,
   "id": "opponent-storage",
   "metadata": {},
   "outputs": [],
   "source": [
    "# set up scaler\n",
    "scalar = StandardScaler()\n",
    "# reshape data\n",
    "x = np.array(x).reshape(-1,1)\n",
    "x = np.array(x).reshape(-1,1)\n",
    "y = np.array(y).reshape(-1,1)\n",
    "y = np.array(y).reshape(-1,1)\n",
    "# transform data\n",
    "x = scalar.fit_transform(x)\n",
    "y = scalar.fit_transform(y)"
   ]
  },
  {
   "cell_type": "code",
   "execution_count": 26,
   "id": "blank-support",
   "metadata": {},
   "outputs": [],
   "source": [
    "#data segmentation with training and test datasets\n",
    "X_train, X_test, Y_train, Y_test = train_test_split(x, y, test_size = 0.3)\n",
    "\n",
    "#linear regression, fits model based on X_train and Y_train values\n",
    "#linear = LinearRegression()\n",
    "\n",
    "#train the linear regression data\n",
    "###linear.fit(X_train, Y_train)\n",
    "\n",
    "#reshape the array\n",
    "###X_train = np.array(X_train).reshape(-1,1)\n",
    "###X_test = np.array(X_test).reshape(-1,1)\n",
    "\n",
    "###Y_train = np.array(Y_train).reshape(-1,1)\n",
    "###Y_test = np.array(Y_test).reshape(-1,1)\n"
   ]
  },
  {
   "cell_type": "code",
   "execution_count": 27,
   "id": "sudden-radiation",
   "metadata": {
    "scrolled": true
   },
   "outputs": [
    {
     "name": "stdout",
     "output_type": "stream",
     "text": [
      "0.01 :  0.9238311458018114\n",
      "0.02 :  0.8939939730878834\n",
      "0.03 :  0.8442633808534158\n",
      "0.04 :  0.7746393690984082\n",
      "0.05 :  0.6851219378228611\n",
      "0.06 :  0.5757110870267745\n",
      "0.07 :  0.44640681671014804\n",
      "0.08 :  0.29720912687298184\n",
      "0.09 :  0.12811801751527613\n"
     ]
    }
   ],
   "source": [
    "#lasso regularization\n",
    "\n",
    "# using lasso to fit X_train, Y_train with 10-fold cross-validation over alpha values from 0.1 to 0.9\n",
    "for i in range(1,10):\n",
    "    lasso = Lasso(alpha=i/10)\n",
    "    lasso_scores = cross_val_score(lasso, X_train, Y_train, cv=10)\n",
    "    print(i/100, \": \", lasso_scores.mean())"
   ]
  },
  {
   "cell_type": "code",
   "execution_count": 28,
   "id": "cleared-bottle",
   "metadata": {},
   "outputs": [
    {
     "name": "stdout",
     "output_type": "stream",
     "text": [
      "R2 Score: 0.12811801751527613\n"
     ]
    }
   ],
   "source": [
    "#use R2 score to find the correlation of the lasso regularization technique\n",
    "###rsquared = r2_score(Y_test_predicted, Y_test)\n",
    "\n",
    "print(\"R2 Score: \" + str(lasso_scores.mean()))"
   ]
  },
  {
   "cell_type": "markdown",
   "id": "polish-contrary",
   "metadata": {},
   "source": [
    "## Other attempted methods:"
   ]
  },
  {
   "cell_type": "code",
   "execution_count": 29,
   "id": "foreign-banking",
   "metadata": {},
   "outputs": [],
   "source": [
    "#from sklearn.model_selection import cross_validate\n",
    "#from sklearn import datasets, linear_model\n",
    "#from sklearn.metrics import make_scorer\n",
    "#from sklearn.metrics import confusion_matrix\n",
    "#from sklearn.svm import LinearSVC\n",
    "#from sklearn import svm"
   ]
  },
  {
   "cell_type": "code",
   "execution_count": 30,
   "id": "other-tract",
   "metadata": {},
   "outputs": [],
   "source": [
    "#correlation through corr() and preformance comparison with r2_score() shows how much difference is between the pred_linear value and the actual y_test value\n",
    "\n",
    "# correlation\n",
    "#corr_linear= pd.Series(Y_test_predicted).corr(pd.Series(Y_test))\n",
    "# r2_score\n",
    "#rsquared_linear= r2_score(Y_test_predicted, Y_test)"
   ]
  },
  {
   "cell_type": "code",
   "execution_count": 31,
   "id": "promising-block",
   "metadata": {},
   "outputs": [],
   "source": [
    "#the correlation value\n",
    "#print(corr_linear)"
   ]
  },
  {
   "cell_type": "code",
   "execution_count": 32,
   "id": "rational-entity",
   "metadata": {
    "scrolled": true
   },
   "outputs": [],
   "source": [
    "#the rsquared value\n",
    "#print(rsquared_linear)"
   ]
  },
  {
   "cell_type": "code",
   "execution_count": 33,
   "id": "tracked-ozone",
   "metadata": {},
   "outputs": [],
   "source": [
    "#the linear coefficient \n",
    "#print(linear.coef_)"
   ]
  },
  {
   "cell_type": "code",
   "execution_count": 34,
   "id": "hundred-server",
   "metadata": {},
   "outputs": [],
   "source": [
    "#model performance evaluation\n",
    "#print('R^2 train: %.3f, test %.3f' %(r2_score(Y_train, Y_train_predicted),r2_score(Y_test, Y_test_predicted)))"
   ]
  },
  {
   "cell_type": "code",
   "execution_count": 35,
   "id": "sensitive-rings",
   "metadata": {},
   "outputs": [],
   "source": [
    "#corr_linear = pd.Series(Y_predicted).corr(pd.Series(Y_test))"
   ]
  },
  {
   "cell_type": "code",
   "execution_count": 36,
   "id": "eastern-coordinator",
   "metadata": {},
   "outputs": [],
   "source": [
    "#clf = svm.SVC(kernel='linear', C=1).fit(X_train, Y_train)\n",
    "#clf.score(X_test, Y_test)"
   ]
  },
  {
   "cell_type": "code",
   "execution_count": 37,
   "id": "increased-broadcasting",
   "metadata": {},
   "outputs": [],
   "source": [
    "#lasso = linear_model.Lasso()"
   ]
  },
  {
   "cell_type": "code",
   "execution_count": 38,
   "id": "horizontal-parliament",
   "metadata": {},
   "outputs": [],
   "source": [
    "#cv_results = cross_validate(lasso, x, y, cv = 2, scoring=('r2','neg_mean_squared_error'), return_train_score=True)\n",
    "#print(scores['test_neg_mean_squared_error'])"
   ]
  },
  {
   "cell_type": "code",
   "execution_count": 39,
   "id": "blocked-spain",
   "metadata": {},
   "outputs": [],
   "source": [
    "#print(scores['train_r2'])"
   ]
  },
  {
   "cell_type": "code",
   "execution_count": 40,
   "id": "japanese-enemy",
   "metadata": {},
   "outputs": [],
   "source": [
    "#coefs = []\n",
    "# using ridge to fit X_train, y_train with 10-fold cross-validation over alpha values\n",
    "#for i, alpha in enumerate([0.1, 0.5, 1, 5, 10, 20, 50, 100]):\n",
    "    # adding new df for alpha results to list\n",
    "    #coefs.append(pd.DataFrame(columns=player_attri_df.loc[:,'gk_reflexes']))\n",
    "    # coefs.append(pd.DataFrame(columns=player_attri_df.loc[:,'gk_handling']))\n",
    "    # coefs_average = []\n",
    "    #ridge_scores = []\n",
    "    #ridge = Ridge(alpha=alpha)\n",
    "    \n",
    "    #cv_results = cross_validate(ridge, X_train, Y_train, cv=10, return_estimator=True)\n",
    "    \n",
    "    #ridge_scores = cross_val_score(ridge, X_train, Y_train, cv=10)\n",
    "\n",
    "    # compute average coef value over k-fold per feature \n",
    "    #for j in cv_results['estimator']:\n",
    "    #    coefs[i].loc[j]=j.coef_\n",
    "    # create list of average coefs\n",
    "    #for column in coefs[i]:\n",
    "    #    coefs_average.append(coefs[i][column].mean())"
   ]
  },
  {
   "cell_type": "code",
   "execution_count": 41,
   "id": "determined-vienna",
   "metadata": {},
   "outputs": [],
   "source": [
    "#coefs = []\n",
    "# using lasso to fit X_train, y_train with 10-fold cross-validation over alpha values\n",
    "#for i, alpha in enumerate([0.1, 0.5, 1, 5, 10, 20, 50, 100]):\n",
    "    # adding new df for alpha results to list\n",
    "   # coefs.append(pd.DataFrame(columns=df.columns[:-1]))\n",
    "    #coefs_average = []\n",
    "    #lasso_scores = []\n",
    "    \n",
    "   # lasso = Lasso(alpha=alpha)\n",
    "   # cv_results = cross_validate(lasso, X_train, y_train, cv=10, return_estimator=True)\n",
    "   # lasso_scores = cross_val_score(lasso, X_train, y_train, cv=10)\n",
    "\n",
    "    # compute average coef value over k-fold per feature \n",
    "   # for j in cv_results['estimator']:\n",
    "   #     coefs[i].loc[j]=j.coef_\n",
    "    # create list of average coefs\n",
    "  #  for column in coefs[i]:\n",
    "  #      coefs_average.append(coefs[i][column].mean())"
   ]
  }
 ],
 "metadata": {
  "kernelspec": {
   "display_name": "Python 3",
   "language": "python",
   "name": "python3"
  },
  "language_info": {
   "codemirror_mode": {
    "name": "ipython",
    "version": 3
   },
   "file_extension": ".py",
   "mimetype": "text/x-python",
   "name": "python",
   "nbconvert_exporter": "python",
   "pygments_lexer": "ipython3",
   "version": "3.8.5"
  }
 },
 "nbformat": 4,
 "nbformat_minor": 5
}
